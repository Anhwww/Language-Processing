{
  "nbformat": 4,
  "nbformat_minor": 0,
  "metadata": {
    "colab": {
      "provenance": [],
      "gpuType": "T4"
    },
    "kernelspec": {
      "name": "python3",
      "display_name": "Python 3"
    },
    "language_info": {
      "name": "python"
    }
  },
  "cells": [
    {
      "cell_type": "markdown",
      "source": [
        "# Named Entity Recognition with MIT Restaurant Dataset\n",
        "\n",
        "## Task Description\n",
        "\n",
        "In this assignment, I will train a NER Model using Conditional Random Fields (CRF) on and report the accuracy of the model on the test dataset.\n",
        "\n"
      ],
      "metadata": {
        "id": "PGcNXgEH9S3s"
      }
    },
    {
      "cell_type": "code",
      "source": [
        "!pip install -q python-crfsuite"
      ],
      "metadata": {
        "id": "qhjb-9J2AAMu",
        "colab": {
          "base_uri": "https://localhost:8080/"
        },
        "outputId": "f0700b24-2d36-4dbc-d728-77e17ab2cd8a"
      },
      "execution_count": null,
      "outputs": [
        {
          "output_type": "stream",
          "name": "stdout",
          "text": [
            "\u001b[?25l     \u001b[90m━━━━━━━━━━━━━━━━━━━━━━━━━━━━━━━━━━━━━━━━\u001b[0m \u001b[32m0.0/1.1 MB\u001b[0m \u001b[31m?\u001b[0m eta \u001b[36m-:--:--\u001b[0m\r\u001b[2K     \u001b[91m━━━\u001b[0m\u001b[90m╺\u001b[0m\u001b[90m━━━━━━━━━━━━━━━━━━━━━━━━━━━━━━━━━━━━\u001b[0m \u001b[32m0.1/1.1 MB\u001b[0m \u001b[31m2.6 MB/s\u001b[0m eta \u001b[36m0:00:01\u001b[0m\r\u001b[2K     \u001b[91m━━━━━━━━━━━━━\u001b[0m\u001b[91m╸\u001b[0m\u001b[90m━━━━━━━━━━━━━━━━━━━━━━━━━━\u001b[0m \u001b[32m0.4/1.1 MB\u001b[0m \u001b[31m5.2 MB/s\u001b[0m eta \u001b[36m0:00:01\u001b[0m\r\u001b[2K     \u001b[91m━━━━━━━━━━━━━━━━━━━━━━━━━\u001b[0m\u001b[91m╸\u001b[0m\u001b[90m━━━━━━━━━━━━━━\u001b[0m \u001b[32m0.7/1.1 MB\u001b[0m \u001b[31m6.6 MB/s\u001b[0m eta \u001b[36m0:00:01\u001b[0m\r\u001b[2K     \u001b[91m━━━━━━━━━━━━━━━━━━━━━━━━━━━━━━━━━━━━━━━\u001b[0m\u001b[91m╸\u001b[0m \u001b[32m1.1/1.1 MB\u001b[0m \u001b[31m7.7 MB/s\u001b[0m eta \u001b[36m0:00:01\u001b[0m\r\u001b[2K     \u001b[90m━━━━━━━━━━━━━━━━━━━━━━━━━━━━━━━━━━━━━━━━\u001b[0m \u001b[32m1.1/1.1 MB\u001b[0m \u001b[31m6.4 MB/s\u001b[0m eta \u001b[36m0:00:00\u001b[0m\n",
            "\u001b[?25h"
          ]
        }
      ]
    },
    {
      "cell_type": "code",
      "source": [
        "from itertools import chain\n",
        "import pycrfsuite"
      ],
      "metadata": {
        "id": "yGewX5VmASAU"
      },
      "execution_count": null,
      "outputs": []
    },
    {
      "cell_type": "markdown",
      "source": [
        "## Dataset\n",
        "[MIT Restaurant Dataset](https://groups.csail.mit.edu/sls/downloads/restaurant/)\n",
        "\n",
        "The [train](https://groups.csail.mit.edu/sls/downloads/restaurant/restauranttrain.bio) data\n",
        "The [test](https://groups.csail.mit.edu/sls/downloads/restaurant/restauranttest.bio) data."
      ],
      "metadata": {
        "id": "Ie-POGzEv8xA"
      }
    },
    {
      "cell_type": "code",
      "source": [
        "%%capture\n",
        "!rm -f restauranttrain.bio\n",
        "!rm -f restauranttest.bio\n",
        "\n",
        "!wget https://groups.csail.mit.edu/sls/downloads/restaurant/restauranttest.bio\n",
        "!wget https://groups.csail.mit.edu/sls/downloads/restaurant/restauranttrain.bio"
      ],
      "metadata": {
        "id": "PcFJBAy7xa-x"
      },
      "execution_count": null,
      "outputs": []
    },
    {
      "cell_type": "markdown",
      "source": [
        "The sentence below will be loaded into a list\n",
        "\n",
        "```\n",
        "O\ta\n",
        "B-Rating\tfour\n",
        "I-Rating\tstar\n",
        "O\trestaurant\n",
        "B-Location\twith\n",
        "I-Location\ta\n",
        "B-Amenity\tbar\n",
        "```\n",
        "\n"
      ],
      "metadata": {
        "id": "MLyiSFarytjC"
      }
    },
    {
      "cell_type": "code",
      "source": [
        "\n",
        "\n",
        "def load_data(file_path):\n",
        "    \"\"\"Load data into a list of list of (word, tag) tuples\n",
        "\n",
        "    Args:\n",
        "        file_path (str): Path to data\n",
        "\n",
        "    Returns:\n",
        "        sentences: list of (word, tag) tuples\n",
        "    \"\"\"\n",
        "    sentences = []\n",
        "\n",
        "\n",
        "    with open(file_path, 'r') as file:\n",
        "        sentence = []\n",
        "        for line in file:\n",
        "            line = line.strip()\n",
        "            if line:\n",
        "                tag, word = line.split('\\t')\n",
        "                sentence.append((word, tag))\n",
        "            else:\n",
        "                if sentence:\n",
        "                    sentences.append(sentence)\n",
        "                    sentence = []\n",
        "\n",
        "        if sentence:\n",
        "            sentences.append(sentence)\n",
        "\n",
        "    return sentences\n"
      ],
      "metadata": {
        "id": "M6UmjUBP06c4"
      },
      "execution_count": null,
      "outputs": []
    },
    {
      "cell_type": "code",
      "source": [
        "train_sents = load_data('restauranttrain.bio')\n",
        "test_sents = load_data('restauranttest.bio')"
      ],
      "metadata": {
        "id": "zy6fIDnF19nC"
      },
      "execution_count": null,
      "outputs": []
    },
    {
      "cell_type": "markdown",
      "source": [
        "Let's check the number of sentences in train and test data"
      ],
      "metadata": {
        "id": "oOzFyaKo2Wgl"
      }
    },
    {
      "cell_type": "code",
      "source": [
        "len(train_sents)"
      ],
      "metadata": {
        "id": "jVdNqwKH2mi8",
        "colab": {
          "base_uri": "https://localhost:8080/"
        },
        "outputId": "7637d0e7-17ec-43e3-d999-c6cdd82b0f67"
      },
      "execution_count": null,
      "outputs": [
        {
          "output_type": "execute_result",
          "data": {
            "text/plain": [
              "7660"
            ]
          },
          "metadata": {},
          "execution_count": 6
        }
      ]
    },
    {
      "cell_type": "code",
      "source": [
        "len(test_sents)"
      ],
      "metadata": {
        "id": "sVVcSv6r2oq6",
        "colab": {
          "base_uri": "https://localhost:8080/"
        },
        "outputId": "8e3906d0-3fd0-48d8-d0dd-157416cb9596"
      },
      "execution_count": null,
      "outputs": [
        {
          "output_type": "execute_result",
          "data": {
            "text/plain": [
              "1521"
            ]
          },
          "metadata": {},
          "execution_count": 7
        }
      ]
    },
    {
      "cell_type": "code",
      "source": [
        "train_sents[0]"
      ],
      "metadata": {
        "id": "Msy21RWM232U",
        "colab": {
          "base_uri": "https://localhost:8080/"
        },
        "outputId": "583af25a-7644-48e8-e7e6-40d544ef8b0b"
      },
      "execution_count": null,
      "outputs": [
        {
          "output_type": "execute_result",
          "data": {
            "text/plain": [
              "[('2', 'B-Rating'),\n",
              " ('start', 'I-Rating'),\n",
              " ('restaurants', 'O'),\n",
              " ('with', 'O'),\n",
              " ('inside', 'B-Amenity'),\n",
              " ('dining', 'I-Amenity')]"
            ]
          },
          "metadata": {},
          "execution_count": 8
        }
      ]
    },
    {
      "cell_type": "markdown",
      "source": [
        "##Extracting features"
      ],
      "metadata": {
        "id": "FVv2iYez3CBW"
      }
    },
    {
      "cell_type": "code",
      "source": [
        "def is_all_caps(word):\n",
        "    return word.upper() == word and not word.isdigit()\n",
        "def word2features(sentence, i):\n",
        "    \"\"\"\n",
        "    Arguments:\n",
        "        sentence (list): list of words [w1, w2,...,w_n]\n",
        "        i (int): index of the word\n",
        "    Return:\n",
        "        features (dict): dictionary of features\n",
        "    \"\"\"\n",
        "    word = sentence[i]\n",
        "    prev_word = '' if i==0 else sentence[i-1].lower()\n",
        "    next_word = '' if i==len(sentence)-1 else sentence[i+1].lower()\n",
        "    features = {\n",
        "\n",
        "        'word.lower()': word.lower(),  # Word identity (lowercase)\n",
        "        'prev_word.lower()': prev_word,  # Previous word identity\n",
        "        'current_word.lower()': word.lower(),  # Current word identity\n",
        "        'next_word.lower()': next_word,  # Next word\n",
        "        'prev_word_current_word': prev_word + '||' + word.lower(),  # Previous word and current word combination\n",
        "        'current_word_next_word': word.lower() + '||' + next_word,  # Current word and next word combination\n",
        "        'word_shape': word_shape(word),  # Word shapes\n",
        "        'prefix_1': word[0],\n",
        "        'prefix_2': word[:2],\n",
        "        'prefix_3': word[:3],\n",
        "        'prefix_4': word[:4],\n",
        "        'suffix_1': word[-1],\n",
        "        'suffix_2': word[-2:],\n",
        "        'suffix_3': word[-3:],\n",
        "        'suffix_4': word[-4:],\n",
        "        'is_capitalized': int(word[0].isupper())  # The first character of the current word is capitalized\n",
        "\n",
        "    }\n",
        "\n",
        "    return features\n",
        "\n",
        "def word_shape(word):\n",
        "    shape = ''\n",
        "    for char in word:\n",
        "        if char.isalpha():\n",
        "            if char.isupper():\n",
        "                shape += 'X'\n",
        "            else:\n",
        "                shape += 'x'\n",
        "        elif char.isdigit():\n",
        "            shape += 'd'\n",
        "        else:\n",
        "            shape += char\n",
        "    return shape\n",
        "\n",
        "def sent2features(sentence):\n",
        "    \"\"\"\n",
        "    sentence is a list of words [w1, w2,...,w_n]\n",
        "    \"\"\"\n",
        "    return [word2features(sentence, i) for i in range(len(sentence))]\n",
        "\n",
        "\n",
        "def sent2labels(sentence):\n",
        "    \"\"\"\n",
        "    sentence is a list of tuples (word, postag)\n",
        "    \"\"\"\n",
        "    return [tag for token, tag in sentence]\n",
        "\n",
        "def untag(sentence):\n",
        "    \"\"\"\n",
        "    sentence is a list of tuples (word, postag)\n",
        "    \"\"\"\n",
        "    return [token for token, _ in sentence]"
      ],
      "metadata": {
        "id": "yfBAsejb5iir"
      },
      "execution_count": null,
      "outputs": []
    },
    {
      "cell_type": "code",
      "source": [
        "train_sents[0]"
      ],
      "metadata": {
        "id": "iNrn8zBrS-Sa",
        "colab": {
          "base_uri": "https://localhost:8080/"
        },
        "outputId": "9edcdc16-5c5f-4dec-dce8-a957797db0ff"
      },
      "execution_count": null,
      "outputs": [
        {
          "output_type": "execute_result",
          "data": {
            "text/plain": [
              "[('2', 'B-Rating'),\n",
              " ('start', 'I-Rating'),\n",
              " ('restaurants', 'O'),\n",
              " ('with', 'O'),\n",
              " ('inside', 'B-Amenity'),\n",
              " ('dining', 'I-Amenity')]"
            ]
          },
          "metadata": {},
          "execution_count": 10
        }
      ]
    },
    {
      "cell_type": "code",
      "source": [
        "sent2features(untag(train_sents[0]))[1]"
      ],
      "metadata": {
        "id": "KFTpTYO68tfD",
        "colab": {
          "base_uri": "https://localhost:8080/"
        },
        "outputId": "6526be2e-3ad8-44d0-c461-e0f72ff5436a"
      },
      "execution_count": null,
      "outputs": [
        {
          "output_type": "execute_result",
          "data": {
            "text/plain": [
              "{'word.lower()': 'start',\n",
              " 'prev_word.lower()': '2',\n",
              " 'current_word.lower()': 'start',\n",
              " 'next_word.lower()': 'restaurants',\n",
              " 'prev_word_current_word': '2||start',\n",
              " 'current_word_next_word': 'start||restaurants',\n",
              " 'word_shape': 'xxxxx',\n",
              " 'prefix_1': 's',\n",
              " 'prefix_2': 'st',\n",
              " 'prefix_3': 'sta',\n",
              " 'prefix_4': 'star',\n",
              " 'suffix_1': 't',\n",
              " 'suffix_2': 'rt',\n",
              " 'suffix_3': 'art',\n",
              " 'suffix_4': 'tart',\n",
              " 'is_capitalized': 0}"
            ]
          },
          "metadata": {},
          "execution_count": 11
        }
      ]
    },
    {
      "cell_type": "markdown",
      "source": [
        "### Create train/test data"
      ],
      "metadata": {
        "id": "9Xl5Tyd4-zZv"
      }
    },
    {
      "cell_type": "code",
      "source": [
        "X_train = [sent2features(untag(s)) for s in train_sents]\n",
        "y_train = [sent2labels(s) for s in train_sents]\n",
        "\n",
        "X_test = [sent2features(untag(s)) for s in test_sents]\n",
        "y_test = [sent2labels(s) for s in test_sents]"
      ],
      "metadata": {
        "id": "nKUVYzMQ-3ef"
      },
      "execution_count": null,
      "outputs": []
    },
    {
      "cell_type": "markdown",
      "source": [
        "## Training"
      ],
      "metadata": {
        "id": "La08Oyam_ZjN"
      }
    },
    {
      "cell_type": "code",
      "source": [
        "%%time\n",
        "trainer = pycrfsuite.Trainer(verbose=False)\n",
        "\n",
        "for xseq, yseq in zip(X_train, y_train):\n",
        "    trainer.append(xseq, yseq)"
      ],
      "metadata": {
        "colab": {
          "base_uri": "https://localhost:8080/"
        },
        "id": "5-C-fq8x_brV",
        "outputId": "76f847d6-86b5-45bf-b60d-6b5ecee07b45"
      },
      "execution_count": null,
      "outputs": [
        {
          "output_type": "stream",
          "name": "stdout",
          "text": [
            "CPU times: user 2.08 s, sys: 85.5 ms, total: 2.16 s\n",
            "Wall time: 2.55 s\n"
          ]
        }
      ]
    },
    {
      "cell_type": "code",
      "source": [
        "#@title Set model parameters\n",
        "\n",
        "max_iterations = \"50\" #@param[50, 20, 100]\n",
        "\n",
        "trainer.set_params({\n",
        "    'c1': 1.0,   # coefficient for L1 penalty\n",
        "    'c2': 1e-3,  # coefficient for L2 penalty\n",
        "    'max_iterations': max_iterations,\n",
        "\n",
        "    # include transitions that are possible, but not observed\n",
        "    'feature.possible_transitions': True\n",
        "})"
      ],
      "metadata": {
        "id": "C0XJtpOtO2Pl"
      },
      "execution_count": null,
      "outputs": []
    },
    {
      "cell_type": "code",
      "source": [
        "%%time\n",
        "trainer.train('mitrestaurant.crfsuite')"
      ],
      "metadata": {
        "id": "v5VXTKZdO4aU",
        "colab": {
          "base_uri": "https://localhost:8080/"
        },
        "outputId": "f589f61f-f47e-4952-8997-d2e90ded3a69"
      },
      "execution_count": null,
      "outputs": [
        {
          "output_type": "stream",
          "name": "stdout",
          "text": [
            "CPU times: user 13 s, sys: 209 ms, total: 13.2 s\n",
            "Wall time: 15.1 s\n"
          ]
        }
      ]
    },
    {
      "cell_type": "markdown",
      "source": [
        "## EvaluationEvaluation"
      ],
      "metadata": {
        "id": "wQQLY7m-PPmO"
      }
    },
    {
      "cell_type": "code",
      "source": [
        "!pip install -q seqeval[cpu]"
      ],
      "metadata": {
        "id": "GtpO8Mb4dFMg",
        "colab": {
          "base_uri": "https://localhost:8080/"
        },
        "outputId": "2b637ebc-7970-49c7-d548-a5b386917a51"
      },
      "execution_count": null,
      "outputs": [
        {
          "output_type": "stream",
          "name": "stdout",
          "text": [
            "\u001b[?25l     \u001b[90m━━━━━━━━━━━━━━━━━━━━━━━━━━━━━━━━━━━━━━━━\u001b[0m \u001b[32m0.0/43.6 kB\u001b[0m \u001b[31m?\u001b[0m eta \u001b[36m-:--:--\u001b[0m\r\u001b[2K     \u001b[90m━━━━━━━━━━━━━━━━━━━━━━━━━━━━━━━━━━━━━━━━\u001b[0m \u001b[32m43.6/43.6 kB\u001b[0m \u001b[31m1.8 MB/s\u001b[0m eta \u001b[36m0:00:00\u001b[0m\n",
            "\u001b[?25h  Preparing metadata (setup.py) ... \u001b[?25l\u001b[?25hdone\n",
            "  Building wheel for seqeval (setup.py) ... \u001b[?25l\u001b[?25hdone\n"
          ]
        }
      ]
    },
    {
      "cell_type": "markdown",
      "source": [
        "### Make Predictions"
      ],
      "metadata": {
        "id": "6UCqdlNvPWZM"
      }
    },
    {
      "cell_type": "code",
      "source": [
        "tagger = pycrfsuite.Tagger()\n",
        "tagger.open('mitrestaurant.crfsuite')"
      ],
      "metadata": {
        "id": "UVenrYzcPYoM",
        "colab": {
          "base_uri": "https://localhost:8080/"
        },
        "outputId": "0fb5f614-47d9-46fb-dcfe-15473722c77f"
      },
      "execution_count": null,
      "outputs": [
        {
          "output_type": "execute_result",
          "data": {
            "text/plain": [
              "<contextlib.closing at 0x7e00089b4820>"
            ]
          },
          "metadata": {},
          "execution_count": 17
        }
      ]
    },
    {
      "cell_type": "code",
      "source": [
        "example_sent = test_sents[0]\n",
        "example_sent"
      ],
      "metadata": {
        "id": "rAfV8QhcPb9e",
        "colab": {
          "base_uri": "https://localhost:8080/"
        },
        "outputId": "49f22caa-e2e9-42bd-d31e-15a46e92bacf"
      },
      "execution_count": null,
      "outputs": [
        {
          "output_type": "execute_result",
          "data": {
            "text/plain": [
              "[('a', 'O'),\n",
              " ('four', 'B-Rating'),\n",
              " ('star', 'I-Rating'),\n",
              " ('restaurant', 'O'),\n",
              " ('with', 'B-Location'),\n",
              " ('a', 'I-Location'),\n",
              " ('bar', 'B-Amenity')]"
            ]
          },
          "metadata": {},
          "execution_count": 18
        }
      ]
    },
    {
      "cell_type": "code",
      "source": [
        "print(\"Predicted:\", ' '.join(tagger.tag(sent2features(untag(example_sent)))))\n",
        "print(\"Correct:  \", ' '.join(sent2labels(example_sent)))"
      ],
      "metadata": {
        "id": "8hGrDn-4P55R",
        "colab": {
          "base_uri": "https://localhost:8080/"
        },
        "outputId": "14a8e9ca-5629-4c52-9676-0bf098721425"
      },
      "execution_count": null,
      "outputs": [
        {
          "output_type": "stream",
          "name": "stdout",
          "text": [
            "Predicted: O B-Rating I-Rating O O O B-Amenity\n",
            "Correct:   O B-Rating I-Rating O B-Location I-Location B-Amenity\n"
          ]
        }
      ]
    },
    {
      "cell_type": "code",
      "source": [
        "%%time\n",
        "y_pred = [tagger.tag(xseq) for xseq in X_test]"
      ],
      "metadata": {
        "id": "3ee18ZKIQqgU",
        "colab": {
          "base_uri": "https://localhost:8080/"
        },
        "outputId": "126f35c3-471e-4276-faf8-f80480a842b7"
      },
      "execution_count": null,
      "outputs": [
        {
          "output_type": "stream",
          "name": "stdout",
          "text": [
            "CPU times: user 165 ms, sys: 2.03 ms, total: 168 ms\n",
            "Wall time: 168 ms\n"
          ]
        }
      ]
    },
    {
      "cell_type": "code",
      "source": [
        "from seqeval.metrics import classification_report\n",
        "\n",
        "print(classification_report(y_test, y_pred))"
      ],
      "metadata": {
        "id": "Ns2UeFU5U96O",
        "colab": {
          "base_uri": "https://localhost:8080/"
        },
        "outputId": "8ed4ccb8-1974-4da0-c8ff-51d9bb8997ec"
      },
      "execution_count": null,
      "outputs": [
        {
          "output_type": "stream",
          "name": "stdout",
          "text": [
            "                 precision    recall  f1-score   support\n",
            "\n",
            "        Amenity       0.70      0.66      0.68       533\n",
            "        Cuisine       0.84      0.83      0.83       532\n",
            "           Dish       0.72      0.72      0.72       288\n",
            "          Hours       0.71      0.66      0.69       212\n",
            "       Location       0.82      0.80      0.81       812\n",
            "          Price       0.81      0.80      0.81       171\n",
            "         Rating       0.76      0.75      0.76       201\n",
            "Restaurant_Name       0.80      0.73      0.77       402\n",
            "\n",
            "      micro avg       0.78      0.75      0.77      3151\n",
            "      macro avg       0.77      0.74      0.76      3151\n",
            "   weighted avg       0.78      0.75      0.77      3151\n",
            "\n"
          ]
        }
      ]
    },
    {
      "cell_type": "markdown",
      "source": [
        "# References\n",
        "\n",
        "1. Datasets for Entity Recognition: https://github.com/juand-r/entity-recognition-datasets\n",
        "2. [sklearn-crfsuite tutorial](https://sklearn-crfsuite.readthedocs.io/en/latest/tutorial.html#let-s-use-conll-2002-data-to-build-a-ner-system).\n",
        "3. [Quick Recipe: Build a POS tagger using a Conditional Random Field](https://nlpforhackers.io/crf-pos-tagger/)\n",
        "4. [NLP Guide: Identifying Part of Speech Tags using Conditional Random Fields](https://medium.com/analytics-vidhya/pos-tagging-using-conditional-random-fields-92077e5eaa31)\n",
        "5. [CRFsuite - Tutorial on Chunking Task](http://www.chokkan.org/software/crfsuite/tutorial.html)"
      ],
      "metadata": {
        "id": "oRMhFCCEBhds"
      }
    }
  ]
}